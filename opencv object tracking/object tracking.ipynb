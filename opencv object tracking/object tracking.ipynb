{
 "cells": [
  {
   "cell_type": "code",
   "execution_count": 2,
   "id": "b8224f55",
   "metadata": {},
   "outputs": [],
   "source": [
    "import cv2 as cv\n",
    "import mediapipe as mp\n",
    "import time"
   ]
  },
  {
   "cell_type": "code",
   "execution_count": 3,
   "id": "e89944b2",
   "metadata": {},
   "outputs": [],
   "source": [
    "def image_overley(img1,img2,location):\n",
    "    h,w,_ = img1.shape\n",
    "    h1,w1 = img2.shape[:2]\n",
    "    x,y = location\n",
    "    img1[y:y+h1 , x:x+w1] = img2\n",
    "    return img1\n",
    "    "
   ]
  },
  {
   "cell_type": "code",
   "execution_count": 4,
   "id": "327a0c89",
   "metadata": {},
   "outputs": [],
   "source": [
    "import numpy as np\n",
    "def image_overlay_sec(img1,img2,location):\n",
    "    h,w = img2.shape[:2]\n",
    "    x,y = location\n",
    "    shapes = np.zeros_like(img1,np.uint8)\n",
    "    shapes[y:y+h,x:x+w] = img2\n",
    "    alpha =0.3\n",
    "    mask = shapes.astype(bool)\n",
    "    img1[mask] = cv.addWeighted(img1,alpha,shapes,1-alpha,None)[mask]\n",
    "    return img1"
   ]
  },
  {
   "cell_type": "code",
   "execution_count": 5,
   "id": "78de6c1a",
   "metadata": {},
   "outputs": [],
   "source": [
    "import numpy as np\n",
    "def image_overlay_third(img1,img2,location):\n",
    "    h,w = img1.shape[:2]\n",
    "    h1,w1 = img2.shape[:2]\n",
    "    x,y = location\n",
    "    roi = img1[y:y+h1 , x:x+w1]\n",
    "    \n",
    "    gray = cv.cvtColor(img2,cv.COLOR_BGR2GRAY)\n",
    "    _,mask = cv.threshold(gray,150,255,cv.THRESH_BINARY)\n",
    "    mask_inv = cv.bitwise_not(mask)\n",
    "    \n",
    "    img_bg = cv.bitwise_and(roi,roi,mask=mask)\n",
    "    img_fg = cv.bitwise_and(img2,img2,mask=mask_inv)\n",
    "    \n",
    "    final = cv.add(img_bg,img_fg)\n",
    "    \n",
    "    img1[y:y+h1,x:x+w1] = final\n",
    "\n",
    "    return img1"
   ]
  },
  {
   "cell_type": "code",
   "execution_count": 6,
   "id": "959d7e07",
   "metadata": {},
   "outputs": [],
   "source": [
    "def nothing(x):\n",
    "    pass"
   ]
  },
  {
   "cell_type": "code",
   "execution_count": 7,
   "id": "24c89d39",
   "metadata": {},
   "outputs": [
    {
     "ename": "error",
     "evalue": "OpenCV(4.6.0) D:\\a\\opencv-python\\opencv-python\\opencv\\modules\\core\\src\\arithm.cpp:230: error: (-215:Assertion failed) (mtype == CV_8U || mtype == CV_8S) && _mask.sameSize(*psrc1) in function 'cv::binary_op'\n",
     "output_type": "error",
     "traceback": [
      "\u001b[1;31m---------------------------------------------------------------------------\u001b[0m",
      "\u001b[1;31merror\u001b[0m                                     Traceback (most recent call last)",
      "Input \u001b[1;32mIn [7]\u001b[0m, in \u001b[0;36m<cell line: 1>\u001b[1;34m()\u001b[0m\n\u001b[0;32m     64\u001b[0m         cv\u001b[38;5;241m.\u001b[39mrectangle(img,(\u001b[38;5;28mint\u001b[39m(bbox\u001b[38;5;241m.\u001b[39mxmin \u001b[38;5;241m*\u001b[39miw)\u001b[38;5;241m-\u001b[39m\u001b[38;5;241m10\u001b[39m,\u001b[38;5;28mint\u001b[39m(bbox\u001b[38;5;241m.\u001b[39mymin \u001b[38;5;241m*\u001b[39mih)\u001b[38;5;241m-\u001b[39m\u001b[38;5;241m40\u001b[39m),(\u001b[38;5;28mint\u001b[39m((bbox\u001b[38;5;241m.\u001b[39mxmin \u001b[38;5;241m+\u001b[39m bbox\u001b[38;5;241m.\u001b[39mwidth)\u001b[38;5;241m*\u001b[39m iw),\u001b[38;5;28mint\u001b[39m((bbox\u001b[38;5;241m.\u001b[39mymin \u001b[38;5;241m+\u001b[39m bbox\u001b[38;5;241m.\u001b[39mheight)\u001b[38;5;241m*\u001b[39mih)),(\u001b[38;5;241m255\u001b[39m,\u001b[38;5;241m0\u001b[39m,\u001b[38;5;241m255\u001b[39m),\u001b[38;5;241m2\u001b[39m)\n\u001b[0;32m     65\u001b[0m         roi \u001b[38;5;241m=\u001b[39m img[\u001b[38;5;28mint\u001b[39m(bbox\u001b[38;5;241m.\u001b[39mymin \u001b[38;5;241m*\u001b[39mih)\u001b[38;5;241m-\u001b[39m\u001b[38;5;241m40\u001b[39m:\u001b[38;5;28mint\u001b[39m((bbox\u001b[38;5;241m.\u001b[39mymin \u001b[38;5;241m+\u001b[39m bbox\u001b[38;5;241m.\u001b[39mheight)\u001b[38;5;241m*\u001b[39mih),\u001b[38;5;28mint\u001b[39m(bbox\u001b[38;5;241m.\u001b[39mxmin \u001b[38;5;241m*\u001b[39miw)\u001b[38;5;241m-\u001b[39m\u001b[38;5;241m10\u001b[39m:\u001b[38;5;28mint\u001b[39m((bbox\u001b[38;5;241m.\u001b[39mxmin \u001b[38;5;241m+\u001b[39m bbox\u001b[38;5;241m.\u001b[39mwidth)\u001b[38;5;241m*\u001b[39m iw)]\n\u001b[1;32m---> 66\u001b[0m         after_overlay\u001b[38;5;241m=\u001b[39m\u001b[43mimage_overlay_third\u001b[49m\u001b[43m(\u001b[49m\u001b[43mimg\u001b[49m\u001b[43m,\u001b[49m\u001b[43moverlay\u001b[49m\u001b[43m,\u001b[49m\u001b[43mlocation\u001b[49m\u001b[43m \u001b[49m\u001b[38;5;241;43m=\u001b[39;49m\u001b[43m \u001b[49m\u001b[43m(\u001b[49m\u001b[38;5;28;43mint\u001b[39;49m\u001b[43m(\u001b[49m\u001b[43mbbox\u001b[49m\u001b[38;5;241;43m.\u001b[39;49m\u001b[43mxmin\u001b[49m\u001b[43m \u001b[49m\u001b[38;5;241;43m*\u001b[39;49m\u001b[43miw\u001b[49m\u001b[43m)\u001b[49m\u001b[38;5;241;43m-\u001b[39;49m\u001b[38;5;241;43m10\u001b[39;49m\u001b[43m,\u001b[49m\u001b[38;5;28;43mint\u001b[39;49m\u001b[43m(\u001b[49m\u001b[43mbbox\u001b[49m\u001b[38;5;241;43m.\u001b[39;49m\u001b[43mymin\u001b[49m\u001b[43m \u001b[49m\u001b[38;5;241;43m*\u001b[39;49m\u001b[43mih\u001b[49m\u001b[43m)\u001b[49m\u001b[38;5;241;43m-\u001b[39;49m\u001b[38;5;241;43m80\u001b[39;49m\u001b[43m)\u001b[49m\u001b[43m)\u001b[49m\n\u001b[0;32m     67\u001b[0m \u001b[38;5;28;01mfor\u001b[39;00m c \u001b[38;5;129;01min\u001b[39;00m contour :\n\u001b[0;32m     68\u001b[0m     area \u001b[38;5;241m=\u001b[39m cv\u001b[38;5;241m.\u001b[39mcontourArea(c)\n",
      "Input \u001b[1;32mIn [5]\u001b[0m, in \u001b[0;36mimage_overlay_third\u001b[1;34m(img1, img2, location)\u001b[0m\n\u001b[0;32m      9\u001b[0m _,mask \u001b[38;5;241m=\u001b[39m cv\u001b[38;5;241m.\u001b[39mthreshold(gray,\u001b[38;5;241m150\u001b[39m,\u001b[38;5;241m255\u001b[39m,cv\u001b[38;5;241m.\u001b[39mTHRESH_BINARY)\n\u001b[0;32m     10\u001b[0m mask_inv \u001b[38;5;241m=\u001b[39m cv\u001b[38;5;241m.\u001b[39mbitwise_not(mask)\n\u001b[1;32m---> 12\u001b[0m img_bg \u001b[38;5;241m=\u001b[39m \u001b[43mcv\u001b[49m\u001b[38;5;241;43m.\u001b[39;49m\u001b[43mbitwise_and\u001b[49m\u001b[43m(\u001b[49m\u001b[43mroi\u001b[49m\u001b[43m,\u001b[49m\u001b[43mroi\u001b[49m\u001b[43m,\u001b[49m\u001b[43mmask\u001b[49m\u001b[38;5;241;43m=\u001b[39;49m\u001b[43mmask\u001b[49m\u001b[43m)\u001b[49m\n\u001b[0;32m     13\u001b[0m img_fg \u001b[38;5;241m=\u001b[39m cv\u001b[38;5;241m.\u001b[39mbitwise_and(img2,img2,mask\u001b[38;5;241m=\u001b[39mmask_inv)\n\u001b[0;32m     15\u001b[0m final \u001b[38;5;241m=\u001b[39m cv\u001b[38;5;241m.\u001b[39madd(img_bg,img_fg)\n",
      "\u001b[1;31merror\u001b[0m: OpenCV(4.6.0) D:\\a\\opencv-python\\opencv-python\\opencv\\modules\\core\\src\\arithm.cpp:230: error: (-215:Assertion failed) (mtype == CV_8U || mtype == CV_8S) && _mask.sameSize(*psrc1) in function 'cv::binary_op'\n"
     ]
    }
   ],
   "source": [
    "if __name__ == '__main__':\n",
    "\n",
    "    \n",
    "    cap = cv.VideoCapture(0)\n",
    "    \n",
    "    overlay = cv.imread(\"./hairstyle.png\")\n",
    "    overlay = cv.resize(overlay ,(155,165))\n",
    "    # object detection\n",
    "    cv.namedWindow(\"bar\")\n",
    "\n",
    "    cv.createTrackbar(\"u_h\",\"bar\",0,255,nothing)\n",
    "    cv.createTrackbar(\"u_s\",\"bar\",0,255,nothing)\n",
    "    cv.createTrackbar(\"u_v\",\"bar\",0,255,nothing)\n",
    "\n",
    "    cv.createTrackbar(\"l_h\",\"bar\",0,255,nothing)\n",
    "    cv.createTrackbar(\"l_s\",\"bar\",0,255,nothing)\n",
    "    cv.createTrackbar(\"l_v\",\"bar\",0,255,nothing)\n",
    "    mpface = mp.solutions.face_detection\n",
    "    face = mpface.FaceDetection()\n",
    "\n",
    "    mpdraw = mp.solutions.drawing_utils\n",
    "    \n",
    "    while cap.isOpened():\n",
    "        ret,img = cap.read()\n",
    "        img = cv.resize(img ,(500,400))\n",
    "            \n",
    "        img3 = cv.cvtColor(img,cv.COLOR_BGR2RGB)\n",
    "        results = face.process(img3)\n",
    "        #print(results.detections)\n",
    "        \n",
    "\n",
    "\n",
    "        \n",
    "        \n",
    "        frame = cv.cvtColor(img,cv.COLOR_BGR2HSV_FULL)\n",
    "    \n",
    "\n",
    "        u_h = cv.getTrackbarPos(\"u_h\",\"bar\")\n",
    "        u_s = cv.getTrackbarPos(\"u_s\",\"bar\")\n",
    "        u_v = cv.getTrackbarPos(\"u_v\",\"bar\")\n",
    "\n",
    "        l_h = cv.getTrackbarPos(\"l_h\",\"bar\")\n",
    "        l_s= cv.getTrackbarPos(\"l_s\",\"bar\")\n",
    "        l_v= cv.getTrackbarPos(\"l_v\",\"bar\")\n",
    "\n",
    "        mask = cv.inRange(frame,(l_h,l_s,l_v),(u_h,u_s,u_v))\n",
    "\n",
    "        dialation = cv.dilate(mask,(10,10))\n",
    "        \n",
    "        retf,thresh = cv.threshold(mask,150,255,cv.THRESH_BINARY)\n",
    "\n",
    "        contour,her = cv.findContours(thresh,cv.RETR_TREE,cv.CHAIN_APPROX_SIMPLE)\n",
    "\n",
    "        cv.imshow(\"thresh\",thresh)\n",
    "    \n",
    "        \n",
    "    \n",
    "        cv.imshow(\"mask\",mask)\n",
    "        if results.detections:\n",
    "            for id,detection in enumerate(results.detections):\n",
    "            #mpdraw.draw_detection(frame,detection)\n",
    "                bbox = detection.location_data.relative_bounding_box\n",
    "                ih,iw,ic = img3.shape\n",
    "                cv.rectangle(img,(int(bbox.xmin *iw)-10,int(bbox.ymin *ih)-40),(int((bbox.xmin + bbox.width)* iw),int((bbox.ymin + bbox.height)*ih)),(255,0,255),2)\n",
    "                roi = img[int(bbox.ymin *ih)-40:int((bbox.ymin + bbox.height)*ih),int(bbox.xmin *iw)-10:int((bbox.xmin + bbox.width)* iw)]\n",
    "                after_overlay=image_overlay_third(img,overlay,location = (int(bbox.xmin *iw)-10,int(bbox.ymin *ih)-80))\n",
    "        for c in contour :\n",
    "            area = cv.contourArea(c)\n",
    "            epsilon = 0.00001 * cv.arcLength(c,True)\n",
    "            data = cv.approxPolyDP(c,epsilon , True)\n",
    "\n",
    "            hull = cv.convexHull(data)\n",
    "            if area > 700 :\n",
    "                #cv.drawContours(after_overlay,[c],-1,(50,50,150),2)\n",
    "                cv.drawContours(after_overlay,[hull],-1,(0,255,0),2)\n",
    "    \n",
    "        \n",
    "        cv.imshow(\"img\",after_overlay)\n",
    "        \n",
    "    \n",
    "        if cv.waitKey(1) == 27 :\n",
    "            break\n",
    "    cap.release()\n",
    "    cv.destroyAllWindows()\n"
   ]
  }
 ],
 "metadata": {
  "kernelspec": {
   "display_name": "Python 3 (ipykernel)",
   "language": "python",
   "name": "python3"
  },
  "language_info": {
   "codemirror_mode": {
    "name": "ipython",
    "version": 3
   },
   "file_extension": ".py",
   "mimetype": "text/x-python",
   "name": "python",
   "nbconvert_exporter": "python",
   "pygments_lexer": "ipython3",
   "version": "3.10.5"
  }
 },
 "nbformat": 4,
 "nbformat_minor": 5
}
